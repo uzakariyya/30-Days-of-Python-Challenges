{
 "cells": [
  {
   "cell_type": "markdown",
   "metadata": {},
   "source": [
    "# Day 9 of 30 Days Python Programming Challenge\n",
    "## Module 9: Functions and List Comprehension\n",
    "### Exercise\n",
    "\n",
    "##### Module 9 (Functions and List Comprehension)\n"
   ]
  }
 ],
 "metadata": {
  "language_info": {
   "name": "python"
  }
 },
 "nbformat": 4,
 "nbformat_minor": 2
}
