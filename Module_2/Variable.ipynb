{
 "cells": [
  {
   "cell_type": "markdown",
   "metadata": {},
   "source": [
    "# Va"
   ]
  },
  {
   "cell_type": "markdown",
   "metadata": {},
   "source": [
    "hjskdhfkjsdf\n"
   ]
  }
 ],
 "metadata": {
  "language_info": {
   "name": "python"
  }
 },
 "nbformat": 4,
 "nbformat_minor": 2
}
