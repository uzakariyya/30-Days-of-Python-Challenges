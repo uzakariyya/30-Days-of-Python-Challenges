{
 "cells": [
  {
   "cell_type": "markdown",
   "metadata": {},
   "source": [
    "# Day 2 of 30 Days Python Programming Challenge"
   ]
  },
  {
   "cell_type": "markdown",
   "metadata": {},
   "source": [
    "## Module_2\n",
    "### Exercises: Level 1"
   ]
  },
  {
   "cell_type": "code",
   "execution_count": 1,
   "metadata": {},
   "outputs": [
    {
     "name": "stdout",
     "output_type": "stream",
     "text": [
      "Umar\n",
      "Zakariyya Muhammad\n",
      "Umar Zakariyya Muhammad\n",
      "Nigeria\n",
      "Bauchi State\n",
      "25\n",
      "2000\n",
      "False\n",
      "True\n",
      "True\n",
      "Umar Zakariyya Muhammad Nigeria Bauchi State 25 2000\n"
     ]
    }
   ],
   "source": [
    "firstname = 'Umar'\n",
    "last_name = 'Zakariyya Muhammad'\n",
    "fullname = 'Umar Zakariyya Muhammad'\n",
    "country = 'Nigeria'\n",
    "State = 'Bauchi State'\n",
    "age = 25\n",
    "year_of_Birth = 2000\n",
    "is_married = False\n",
    "is_true = True\n",
    "is_light_on = True\n",
    "\n",
    "#firstname, last_name, country, State, age, year_of_Birth : 'Umar', 'Zakariyya Muhammad', 'Nigeria', 'Bauchi State', 20, 2000\n",
    "print(firstname)\n",
    "print(last_name)\n",
    "print(fullname)\n",
    "print(country)\n",
    "print(State)\n",
    "print(age)\n",
    "print(year_of_Birth)\n",
    "print(is_married)\n",
    "print(is_true)\n",
    "print(is_light_on)\n",
    "print(firstname, last_name, country, State, age, year_of_Birth)"
   ]
  },
  {
   "cell_type": "markdown",
   "metadata": {},
   "source": [
    "## Exercises: Level 2"
   ]
  },
  {
   "cell_type": "code",
   "execution_count": 2,
   "metadata": {},
   "outputs": [
    {
     "name": "stdout",
     "output_type": "stream",
     "text": [
      "<class 'str'>\n",
      "<class 'str'>\n",
      "<class 'str'>\n",
      "<class 'str'>\n",
      "<class 'str'>\n",
      "<class 'int'>\n",
      "<class 'int'>\n",
      "<class 'bool'>\n",
      "<class 'bool'>\n",
      "<class 'bool'>\n",
      "<class 'str'>\n"
     ]
    }
   ],
   "source": [
    "#Check the data type of all your variables using type() built-in function\n",
    "print(type(firstname))\n",
    "print(type(last_name))\n",
    "print(type(fullname))\n",
    "print(type(country))\n",
    "print(type(State))\n",
    "print(type(age))\n",
    "print(type(year_of_Birth))\n",
    "print(type(is_married))\n",
    "print(type(is_true))\n",
    "print(type(is_light_on))\n",
    "print(type(\"firstname, last_name, country, State, age, year_of_Birth\"))"
   ]
  },
  {
   "cell_type": "code",
   "execution_count": 3,
   "metadata": {},
   "outputs": [
    {
     "name": "stdout",
     "output_type": "stream",
     "text": [
      "My Firstname is shorter than my lastname\n",
      "4\n",
      "18\n",
      "9\n",
      "1\n",
      "20\n",
      "1.25\n",
      "4\n",
      "4\n",
      "625\n",
      "1\n",
      "2827.4333882308138\n",
      "188.49555921538757\n",
      "2827.4333882308138\n",
      "First Name: Umar\n",
      "Last Name: Zakariyya Muhammad\n",
      "Country: Nigeria\n",
      "Age: 25\n",
      "\n",
      "Here is a list of the Python keywords.  Enter any keyword to get more help.\n",
      "\n",
      "False               class               from                or\n",
      "None                continue            global              pass\n",
      "True                def                 if                  raise\n",
      "and                 del                 import              return\n",
      "as                  elif                in                  try\n",
      "assert              else                is                  while\n",
      "async               except              lambda              with\n",
      "await               finally             nonlocal            yield\n",
      "break               for                 not                 \n",
      "\n"
     ]
    }
   ],
   "source": [
    "import math\n",
    "\n",
    "#Using the len() built-in function, find the length of your first name\n",
    "first_name = 'Umar'\n",
    "last_name = 'Zakariyya Muhammad'\n",
    "country = 'Nigeria'\n",
    "age = 25\n",
    "len_first_name = (len(first_name))\n",
    "len_last_name = (len(last_name))\n",
    "\n",
    "#Compare the length of your first name and your last name\n",
    "if len(first_name) > len(last_name):\n",
    "    print('My Firstname is shorter than my lastname')\n",
    "elif len(first_name) < len(last_name):\n",
    "    print('My Firstname is shorter than my lastname')\n",
    "\n",
    "\n",
    "#Declare 5 as num_one and 4 as num_two\n",
    "num_one = 5\n",
    "num_two = 4\n",
    "\n",
    "#Add num_one and num_two and assign the value to a variable total\n",
    "variable_total = num_one + num_two\n",
    "\n",
    "#Subtract num_two from num_one and assign the value to a variable diff\n",
    "variable_diff = num_one - num_two\n",
    "\n",
    "#Multiply num_two and num_one and assign the value to a variable product\n",
    "variable_product = num_two * num_one\n",
    "\n",
    "#Divide num_one by num_two and assign the value to a variable division\n",
    "variable_division = num_one/num_two\n",
    "\n",
    "#Use modulus division to find num_two divided by num_one and assign the value to a variable remainder\n",
    "variable_remainder = num_two % num_one\n",
    "\n",
    "#Calculate num_one to the power of num_two and assign the value to a variable exp\n",
    "variable_exp = num_one**num_two\n",
    "\n",
    "#Find floor division of num_one by num_two and assign the value to a variable floor_division\n",
    "floor_division = num_one//num_two\n",
    "\n",
    "#The radius of a circle is 30 meters.\n",
    "    #Calculate the area of a circle and assign the value to a variable name of area_of_circle\n",
    "    #Calculate the circumference of a circle and assign the value to a variable name of circum_of_circle\n",
    "    #Take radius as user input and calculate the area.\n",
    "\n",
    "radius = 30\n",
    "\n",
    "area_of_circle = math.pi *radius**2\n",
    "circum_of_circle = 2 * math.pi * radius\n",
    "\n",
    "user_radius = radius \n",
    "area_of_a_cirlce_with_user_radius = math.pi * user_radius ** 2\n",
    "\n",
    "#Use the built-in input function to get first name, last name, country and age from a user and store the value to their corresponding variable names\n",
    "\n",
    "first_name = input('Enter your First Name:')\n",
    "last_name = input('Enter your Last Name')\n",
    "country =  input('Enter your Country')\n",
    "age =  input('Enter your Age')\n",
    "\n",
    "\n",
    "\n",
    "print(len_first_name)\n",
    "print(len_last_name)\n",
    "print(variable_total)\n",
    "print(variable_diff)\n",
    "print(variable_product)\n",
    "print(variable_division)\n",
    "print(variable_remainder)\n",
    "print(round(variable_remainder,2))\n",
    "print(round(variable_exp,2))\n",
    "print(floor_division)\n",
    "print(area_of_circle)\n",
    "print(circum_of_circle)\n",
    "print(area_of_a_cirlce_with_user_radius)\n",
    "print(f\"First Name: {first_name}\")\n",
    "print(f\"Last Name: {last_name}\")\n",
    "print(f\"Country: {country}\")\n",
    "print(f\"Age: {age}\")\n",
    "\n",
    "#Run help('keywords') in Python shell or in your file to check for the Python reserved words or keywords\n",
    "help('keywords')"
   ]
  }
 ],
 "metadata": {
  "kernelspec": {
   "display_name": "Python 3",
   "language": "python",
   "name": "python3"
  },
  "language_info": {
   "codemirror_mode": {
    "name": "ipython",
    "version": 3
   },
   "file_extension": ".py",
   "mimetype": "text/x-python",
   "name": "python",
   "nbconvert_exporter": "python",
   "pygments_lexer": "ipython3",
   "version": "3.12.7"
  }
 },
 "nbformat": 4,
 "nbformat_minor": 2
}
