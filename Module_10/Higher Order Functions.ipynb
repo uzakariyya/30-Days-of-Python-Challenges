{
 "cells": [
  {
   "cell_type": "markdown",
   "metadata": {},
   "source": [
    "# Day 10 of 30 Days Python Programming Challenge\n",
    "## Module 10: Higher Order Functions\n",
    "### Exercise\n",
    "\n",
    "##### Module 9 (Higher Order Functions)\n"
   ]
  },
  {
   "cell_type": "markdown",
   "metadata": {
    "vscode": {
     "languageId": "plaintext"
    }
   },
   "source": [
    "## 💻 Exercises: Functions \n",
    "### Exercises: Level 1"
   ]
  },
  {
   "cell_type": "code",
   "execution_count": 96,
   "metadata": {},
   "outputs": [
    {
     "name": "stdout",
     "output_type": "stream",
     "text": [
      "[2, 4, 6]\n",
      "[1, 2, 3]\n",
      "6\n",
      "Nigeria\n",
      "USA\n",
      "UK\n",
      "UAE\n",
      "Qatar\n",
      "Egypt\n",
      "Germany\n",
      "Saudi Arabia\n",
      "Norway\n",
      "Iceland\n",
      "Finland\n",
      "Umar\n",
      "Usman\n",
      "Umair\n",
      "Khadija\n",
      "Aisha\n",
      "1\n",
      "2\n",
      "3\n",
      "4\n",
      "5\n",
      "6\n",
      "7\n",
      "8\n",
      "9\n",
      "10\n"
     ]
    }
   ],
   "source": [
    "from functools import reduce\n",
    "#1 Explain the difference between map, filter, and reduce.\n",
    "\n",
    "# map: Applies a function to each item in an iterable (e.g., list) and returns a new iterable with the results.\n",
    "# Example: Convert all elements to uppercase.\n",
    "# filter: Applies a function that returns a boolean value to each item in an iterable, keeping only those that return True.\n",
    "# Example: Select even numbers from a list.\n",
    "# reduce: Applies a function cumulatively to items in an iterable, reducing it to a single value.\n",
    "# Example: Sum all numbers in a list.\n",
    "\n",
    "#2 Explain the difference between higher order function, closure and decorator\n",
    "# Higher-order functions: Is the functions that take other functions as arguments or return functions as results.\n",
    "# Example: map, filter, or a custom function.\n",
    "# Closures: A function that retains access to its enclosing lexical scope, even after the outer function has executed.\n",
    "# Example: A function inside another function accessing a variable from the outer function.\n",
    "# Decorators: Special functions in Python that modify or extend the behavior of other functions or methods.\n",
    "# Example: @staticmethod, @property.\n",
    "\n",
    "#3 Define a call function before map, filter or reduce, see examples.\n",
    "def multiply_by_two(n):\n",
    "    return n * 2\n",
    "\n",
    "numbers = [1, 2, 3]\n",
    "result = map(multiply_by_two, numbers)\n",
    "print(list(result)) \n",
    "\n",
    "numbers = [1, 2, 3]\n",
    "result = filter(multiply_by_two, numbers)\n",
    "print(list(result)) \n",
    "\n",
    "def multiply_by_two(n,m):\n",
    "    return n * m\n",
    "numbers = [1, 2, 3]\n",
    "for  number in numbers:\n",
    "    result = reduce(multiply_by_two, numbers)\n",
    "print((result))\n",
    "\n",
    "#4 Use for loop to print each country in the countries list.\n",
    "\n",
    "countries = ['Nigeria', 'USA', 'UK', 'UAE', 'Qatar', 'Egypt', 'Germany', 'Saudi Arabia', 'Norway', 'Iceland', 'Finland']\n",
    "for country in countries:\n",
    "    print(country)\n",
    "#print(f'I love to live in {country}!')\n",
    "\n",
    "\n",
    "#5 Use for to print each name in the names list.\n",
    "names = ['Umar', 'Usman', 'Umair', 'Khadija', 'Aisha']\n",
    "\n",
    "for name in names:\n",
    "    print(name)\n",
    "#print(f'Hi, My Name is {name}!')\n",
    "\n",
    "#6 Use for to print each number in the numbers list.\n",
    "\n",
    "numbers = [1, 2, 3, 4, 5, 6, 7, 8, 9, 10]\n",
    "for number in numbers:\n",
    "    print(number)\n",
    "\n",
    "\n"
   ]
  },
  {
   "cell_type": "markdown",
   "metadata": {},
   "source": [
    "### Exercises: Level 2"
   ]
  },
  {
   "cell_type": "code",
   "execution_count": 97,
   "metadata": {},
   "outputs": [
    {
     "name": "stdout",
     "output_type": "stream",
     "text": [
      "['NIGERIA', 'USA', 'UK', 'UAE', 'QATAR', 'EGYPT', 'GERMANY', 'SAUDI ARABIA', 'NORWAY', 'ICELAND', 'FINLAND']\n",
      "[1, 4, 9, 16, 25, 36, 49, 64, 81, 100]\n",
      "['UMAR', 'USMAN', 'UMAIR', 'KHADIJA', 'AISHA']\n",
      "['Iceland', 'Finland']\n",
      "['Norway']\n",
      "['Nigeria', 'Germany', 'Saudi Arabia', 'Norway', 'Iceland', 'Finland']\n",
      "['Egypt']\n",
      "['ICELAND', 'FINLAND']\n",
      "['Umar', 'Zakariyya', 'Muhammad']\n",
      "55\n",
      "Estonia, Finland, Sweden, Denmark, Norway, Iceland are North European countries\n",
      "['Iceland', 'Finland']\n",
      "{'N': 2, 'U': 3, 'Q': 1, 'E': 1, 'G': 1, 'S': 1, 'I': 1, 'F': 1}\n",
      "['Nigeria', 'USA', 'UK', 'UAE', 'Qatar', 'Egypt', 'Germany', 'Saudi Arabia', 'Norway', 'Iceland']\n",
      "['USA', 'UK', 'UAE', 'Qatar', 'Egypt', 'Germany', 'Saudi Arabia', 'Norway', 'Iceland', 'Finland']\n"
     ]
    }
   ],
   "source": [
    "#1 Use map to create a new list by changing each country to uppercase in the countries list\n",
    "uppercase_countries = list(map(str.upper, countries))\n",
    "print(uppercase_countries)\n",
    "\n",
    "#2 Use map to create a new list by changing each number to its square in the numbers list\n",
    "\n",
    "squared_numbers = list(map(lambda x: x ** 2, numbers))\n",
    "print(squared_numbers)\n",
    "\n",
    "\n",
    "#3 Use map to change each name to uppercase in the names list\n",
    "uppercase_names = list(map(str.upper, names))\n",
    "print(uppercase_names)\n",
    "\n",
    "#4 Use filter to filter out countries containing 'land'.\n",
    "countries_with_land = list(filter(lambda x: 'land' in x, countries))\n",
    "print(countries_with_land)\n",
    "\n",
    "#5 Use filter to filter out countries having exactly six characters.\n",
    "countries_six_characters = list(filter(lambda x: len(x) == 6, countries))\n",
    "print(countries_six_characters)\n",
    "\n",
    "#6 Use filter to filter out countries containing six letters and more in the country list.\n",
    "\n",
    "countries_six_or_more = list(filter(lambda x: len(x) >= 6, countries))\n",
    "print(countries_six_or_more)\n",
    "\n",
    "#7 Use filter to filter out countries starting with an 'E'\n",
    "countries_starting_with_e = list(filter(lambda x: x.startswith('E'), countries))\n",
    "print(countries_starting_with_e)\n",
    "\n",
    "#8 Chain two or more list iterators (eg. arr.map(callback).filter(callback).reduce(callback))\n",
    "\n",
    "result = list(map(str.upper, filter(lambda x: 'land' in x, countries)))\n",
    "print(result)\n",
    "\n",
    "#9 Declare a function called get_string_lists which takes a list as a parameter and then returns a list containing only string items.\n",
    "def get_string_lists(lst):\n",
    "    return list(filter(lambda x: isinstance(x, str), lst))\n",
    "\n",
    "print(get_string_lists([1, 'Umar', 3.14, 'Zakariyya', 'Muhammad', True, 25, ]))\n",
    "\n",
    "#10 Use reduce to sum all the numbers in the numbers list.\n",
    "\n",
    "total_sum = reduce(lambda x, y: x + y, numbers)\n",
    "print(total_sum)\n",
    "\n",
    "countries_2 = ['Estonia', 'Finland', 'Sweden', 'Denmark', 'Norway', 'Iceland']\n",
    "\n",
    "#11 Use reduce to concatenate all the countries and to produce this sentence: Estonia, Finland, Sweden, Denmark, Norway, and Iceland are north European countries\n",
    "sentence = reduce(lambda x, y: x + ', ' + y, countries_2) + ' are North European countries'\n",
    "print(sentence)\n",
    "#12 Declare a function called categorize_countries that returns a list of countries with some common pattern (you can find the countries list in this repository as countries.js(eg 'land', 'ia', 'island', 'stan')).\n",
    "def categorize_countries(pattern):\n",
    "    return list(filter(lambda x: pattern in x, countries))\n",
    "\n",
    "print(categorize_countries('land'))\n",
    "\n",
    "#13 Create a function returning a dictionary, where keys stand for starting letters of countries and values are the number of country names starting with that letter.\n",
    "def count_countries_by_letter(countries):\n",
    "    from collections import defaultdict\n",
    "    counts = defaultdict(int)\n",
    "    for country in countries:\n",
    "        counts[country[0]] += 1\n",
    "    return dict(counts)\n",
    "\n",
    "print(count_countries_by_letter(countries))\n",
    "\n",
    "#14 Declare a get_first_ten_countries function - it returns a list of first ten countries from the countries.js list in the data folder.\n",
    "def get_first_ten_countries(countries):\n",
    "    return countries[:10]\n",
    "\n",
    "\n",
    "print(get_first_ten_countries(countries))\n",
    "\n",
    "\n",
    "\n",
    "#15 Declare a get_last_ten_countries function that returns the last ten countries in the countries list.\n",
    "def get_last_ten_countries(countries):\n",
    "    return countries[-10:]\n",
    "\n",
    "print(get_last_ten_countries(countries))\n",
    "\n"
   ]
  },
  {
   "cell_type": "markdown",
   "metadata": {},
   "source": [
    "### Exercises: Level 3"
   ]
  },
  {
   "cell_type": "code",
   "execution_count": 155,
   "metadata": {},
   "outputs": [
    {
     "name": "stdout",
     "output_type": "stream",
     "text": [
      "[{'name': 'Afghanistan', 'capital': 'Kabul', 'languages': ['Pashto', 'Uzbek', 'Turkmen'], 'population': 27657145, 'flag': 'https://restcountries.eu/data/afg.svg', 'currency': 'Afghan afghani'}]\n",
      "[{'name': 'Afghanistan', 'capital': 'Kabul', 'languages': ['Pashto', 'Uzbek', 'Turkmen'], 'population': 27657145, 'flag': 'https://restcountries.eu/data/afg.svg', 'currency': 'Afghan afghani'}]\n",
      "[{'name': 'Afghanistan', 'capital': 'Kabul', 'languages': ['Pashto', 'Uzbek', 'Turkmen'], 'population': 27657145, 'flag': 'https://restcountries.eu/data/afg.svg', 'currency': 'Afghan afghani'}]\n"
     ]
    }
   ],
   "source": [
    "from c_d import  countries\n",
    "\n",
    "#1 Use the countries_data.py (https://github.com/Asabeneh/30-Days-Of-Python/blob/master/data/countries-data.py) file and follow the tasks below:\n",
    "    #- Sort countries by name, by capital, by population\n",
    "sorted_by_name = sorted(countries, key=lambda x: x['name'])\n",
    "print(sorted_by_name)\n",
    "\n",
    "#- Sort out the ten most spoken languages by location.\n",
    "sorted_by_capital = sorted(countries, key=lambda x: x['capital'])\n",
    "print(sorted_by_capital)\n",
    "\n",
    "#- Sort out the ten most populated countries.\n",
    "\n",
    "sorted_by_population = sorted(countries, key=lambda x: x['population'], reverse=True)\n",
    "print(sorted_by_population)\n"
   ]
  }
 ],
 "metadata": {
  "kernelspec": {
   "display_name": "base",
   "language": "python",
   "name": "python3"
  },
  "language_info": {
   "codemirror_mode": {
    "name": "ipython",
    "version": 3
   },
   "file_extension": ".py",
   "mimetype": "text/x-python",
   "name": "python",
   "nbconvert_exporter": "python",
   "pygments_lexer": "ipython3",
   "version": "3.7.3"
  }
 },
 "nbformat": 4,
 "nbformat_minor": 2
}
